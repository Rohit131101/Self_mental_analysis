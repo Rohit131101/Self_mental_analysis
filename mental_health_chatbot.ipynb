{
 "cells": [
  {
   "cell_type": "code",
   "execution_count": 2,
   "id": "db3560da-f8c6-489b-95cd-647bd4a1933e",
   "metadata": {},
   "outputs": [],
   "source": [
    "import os\n",
    "from openai import OpenAI\n",
    "from fpdf import FPDF"
   ]
  },
  {
   "cell_type": "code",
   "execution_count": 3,
   "id": "8e849e56-d4db-478a-8e3f-b13711dee19d",
   "metadata": {},
   "outputs": [
    {
     "name": "stdout",
     "output_type": "stream",
     "text": [
      "API key found and looks good so far!\n"
     ]
    }
   ],
   "source": [
    "from dotenv import load_dotenv\n",
    "# Load environment variables in a file called .env\n",
    "\n",
    "load_dotenv(override=True)\n",
    "api_key = os.getenv('OPENAI_API_KEY')\n",
    "\n",
    "# Check the key\n",
    "\n",
    "if not api_key:\n",
    "    print(\"No API key was found - please head over to the troubleshooting notebook in this folder to identify & fix!\")\n",
    "elif not api_key.startswith(\"sk-proj-\"):\n",
    "    print(\"An API key was found, but it doesn't start sk-proj-; please check you're using the right key - see troubleshooting notebook\")\n",
    "elif api_key.strip() != api_key:\n",
    "    print(\"An API key was found, but it looks like it might have space or tab characters at the start or end - please remove them - see troubleshooting notebook\")\n",
    "else:\n",
    "    print(\"API key found and looks good so far!\")\n"
   ]
  },
  {
   "cell_type": "code",
   "execution_count": 4,
   "id": "68c41ef5-73b4-4b73-9e84-8dcf66fdf558",
   "metadata": {},
   "outputs": [
    {
     "name": "stdout",
     "output_type": "stream",
     "text": [
      "Hello! Welcome! I'm glad to hear from you. How can I assist you today?\n"
     ]
    }
   ],
   "source": [
    "openai = OpenAI()\n",
    "message = \"Hello, GPT! This is my first ever message to you! Hi!\"\n",
    "response = openai.chat.completions.create(model=\"gpt-4o-mini\", messages=[{\"role\":\"user\", \"content\":message}])\n",
    "print(response.choices[0].message.content)"
   ]
  },
  {
   "cell_type": "code",
   "execution_count": 5,
   "id": "6e5984bb-7586-43ec-bbd4-fb1945c44eb5",
   "metadata": {},
   "outputs": [],
   "source": [
    "SYSTEM_PROMPT = \"\"\" You are a highly skilled psychiatrist specializing in mental health assessment.\\\n",
    "\n",
    "Your role is to engage in a thoughtful, supportive conversation with the user to understand their mental health concerns. You will ask relevant questions about their emotional well-being, symptoms, lifestyle, and stressors. Based on their responses, you will provide a non-medical explanation of their condition and suggest actionable coping strategies.\\  \n",
    "\n",
    "Follow this structured approach:  \\\n",
    "\n",
    "1. **Users Reported Symptoms**\\\n",
    "   - Summarize the symptoms and concerns shared by the user.  \\\n",
    "\n",
    "2. **Possible Explanation**  \\\n",
    "   - Provide an easy-to-understand, non-medical insight into their mental state. \\ \n",
    "\n",
    "3. **Recommended Coping Strategies**  \\\n",
    "   - Suggest practical techniques such as mindfulness, self-care, and lifestyle adjustments.\\  \n",
    "\n",
    "4. **Encouragement and Next Steps**  \\\n",
    "   - Offer supportive words and, if necessary, recommend seeking professional help.  \\\n",
    "\n",
    "Maintain an empathetic, non-judgmental, and professional tone throughout the conversation. Ensure that responses are clear, structured, and informative.  \n",
    "\"\"\""
   ]
  },
  {
   "cell_type": "code",
   "execution_count": 6,
   "id": "8bbc4054-dd46-47da-92b4-72264731e2ec",
   "metadata": {},
   "outputs": [],
   "source": [
    "def chat_with_model(user_input):\n",
    "    response = openai.chat.completions.create(\n",
    "        model=\"gpt-4\",  # Use GPT-4 or GPT-3.5\n",
    "        messages=[\n",
    "            {\"role\": \"system\", \"content\": SYSTEM_PROMPT},\n",
    "            {\"role\": \"user\", \"content\": user_input}\n",
    "        ]\n",
    "    )\n",
    "    return response.choices[0].message.content\n"
   ]
  },
  {
   "cell_type": "code",
   "execution_count": 7,
   "id": "e1e7fdf5-b493-42df-9c78-32cf6d21d3fe",
   "metadata": {},
   "outputs": [],
   "source": [
    "from fpdf import FPDF\n",
    "import datetime\n"
   ]
  },
  {
   "cell_type": "code",
   "execution_count": 15,
   "id": "2255765e-bfdf-4d2c-908d-240a4860e905",
   "metadata": {},
   "outputs": [],
   "source": [
    "import datetime\n",
    "from fpdf import FPDF\n",
    "\n",
    "def generate_pdf_report(user_name, user_symptoms, chatbot_response):\n",
    "\n",
    "    # Define the file name based on the user's name\n",
    "    file_name = f\"{user_name}_report.pdf\" if user_name.strip() else \"mental_health_report.pdf\"\n",
    "   \n",
    "    pdf = FPDF()\n",
    "    pdf.set_auto_page_break(auto=True, margin=15)\n",
    "    pdf.add_page()\n",
    "    \n",
    "    # Title\n",
    "    pdf.set_font(\"Arial\", \"B\", 16)\n",
    "    pdf.cell(200, 10, \"Mental Health Chatbot Report\", ln=True, align=\"C\")\n",
    "    pdf.ln(10)\n",
    "\n",
    "    # User Information\n",
    "    pdf.set_font(\"Arial\", \"\", 12)\n",
    "    pdf.cell(200, 10, f\"Date: {datetime.datetime.now().strftime('%Y-%m-%d')}\", ln=True)\n",
    "    if user_name.strip():\n",
    "        pdf.cell(200, 10, f\"User: {user_name}\", ln=True)\n",
    "    pdf.ln(5)\n",
    "    \n",
    "    # Function to clean text (removes unsupported Unicode characters)\n",
    "    def clean_text(text):\n",
    "        return text.encode('latin-1', 'ignore').decode('latin-1')  # Removes problematic characters\n",
    "    \n",
    "    # User Reported Symptoms\n",
    "    pdf.set_font(\"Arial\", \"B\", 14)\n",
    "    pdf.cell(200, 10, \"1. User's Reported Symptoms\", ln=True)\n",
    "    pdf.set_font(\"Arial\", \"\", 12)\n",
    "    pdf.multi_cell(0, 10, clean_text(user_symptoms))\n",
    "    pdf.ln(5)\n",
    "    \n",
    "    # Chatbot Analysis\n",
    "    pdf.set_font(\"Arial\", \"B\", 14)\n",
    "    pdf.cell(200, 10, \"2. Chatbot's Response\", ln=True)\n",
    "    pdf.set_font(\"Arial\", \"\", 12)\n",
    "    pdf.multi_cell(0, 10, clean_text(chatbot_response))\n",
    "    pdf.ln(5)\n",
    "    \n",
    "    # Save the PDF\n",
    "    pdf.output(file_name)\n",
    "    print(f\"\\n✅ Report saved successfully as: {file_name}\")\n"
   ]
  },
  {
   "cell_type": "code",
   "execution_count": 16,
   "id": "c1e3005e-89e5-482f-8d1f-56d9f82fe031",
   "metadata": {},
   "outputs": [],
   "source": [
    "def mental_health_chatbot():\n",
    "    print(\"\\nWelcome to the Mental Health Chatbot.\\n\")\n",
    "    \n",
    "    # Asking if the user is comfortable sharing personal details\n",
    "    consent = input(\"Would you like to share some personal details before we begin? (yes/no): \").strip().lower()\n",
    "    \n",
    "    user_details = \"\"\n",
    "    user_name = \"\"\n",
    "\n",
    "    if consent in [\"yes\", \"y\"]:\n",
    "        user_name = input(\"Please enter your name: \")\n",
    "        age = input(\"How old are you? \")\n",
    "        occupation = input(\"What is your occupation? \")\n",
    "        \n",
    "        user_details = f\"My name is {user_name}, I am {age} years old, and I work as a {occupation}.\"\n",
    "        print(\"\\nThank you for sharing! Now, let's talk about your concerns.\\n\")\n",
    "    else:\n",
    "        print(\"\\nNo worries! Let's proceed directly with your symptoms.\\n\")\n",
    "\n",
    "    # Asking about symptoms\n",
    "    user_symptoms = input(\"Please describe your mental health symptoms in a few sentences: \")\n",
    "    \n",
    "    # Combining user details (if provided) with symptoms\n",
    "    if user_details:\n",
    "        full_input = f\"{user_details} Here are my mental health concerns: {user_symptoms}\"\n",
    "    else:\n",
    "        full_input = user_symptoms\n",
    "    \n",
    "    # Get chatbot response\n",
    "    chatbot_response = chat_with_model(full_input)\n",
    "    \n",
    "    print(\"\\nChatbot Response:\\n\", chatbot_response)\n",
    "    \n",
    "    # Generate PDF report\n",
    "    generate_pdf_report(user_name, user_symptoms, chatbot_response)\n"
   ]
  },
  {
   "cell_type": "code",
   "execution_count": 17,
   "id": "9ef11018-8962-4779-8005-4e05bda18504",
   "metadata": {},
   "outputs": [
    {
     "name": "stdout",
     "output_type": "stream",
     "text": [
      "\n",
      "Welcome to the Mental Health Chatbot.\n",
      "\n"
     ]
    },
    {
     "name": "stdin",
     "output_type": "stream",
     "text": [
      "Would you like to share some personal details before we begin? (yes/no):  yes\n",
      "Please enter your name:  rohan\n",
      "How old are you?  20\n",
      "What is your occupation?  student \n"
     ]
    },
    {
     "name": "stdout",
     "output_type": "stream",
     "text": [
      "\n",
      "Thank you for sharing! Now, let's talk about your concerns.\n",
      "\n"
     ]
    },
    {
     "name": "stdin",
     "output_type": "stream",
     "text": [
      "Please describe your mental health symptoms in a few sentences:  feeling anxious , having tendencies of self harm , self hate\n"
     ]
    },
    {
     "name": "stdout",
     "output_type": "stream",
     "text": [
      "\n",
      "Chatbot Response:\n",
      " Hello Rohan,\n",
      "\n",
      "I appreciate your courage in reaching out and sharing about your current emotional state and concerns. Let's summarize and delve a bit deeper.\n",
      "\n",
      "1. **Users Reported Symptoms**:  \n",
      "You've reported feelings of high anxiety levels, tendencies of self-harm, and self-detestation. This combination can be particularly heavy to bear and it's important that we are addressing this clearly.\n",
      "\n",
      "2. **Possible Explanation**:  \n",
      "Excessive anxiety and self-hatred can often stem from an accumulation of stress and pressure, possibly associated with academic or personal expectations. These feelings can sometimes result in self-harm tendencies as an attempt to cope or gain control over emotional pain. \n",
      "\n",
      "3. **Recommended Coping Strategies**:    \n",
      "It's very important to ensure safety first, so if your thoughts about self-harm continue, please reach out to a mental health crisis hotline immediately. Typically, they are available 24/7 and ready to provide immediate support. Aside from this, various strategies can help manage your feelings of anxiety and self-hatred:\n",
      "\n",
      "   - **Stay Connected**: Don't isolate yourself. Reach out to a trusted friend, family member, or a support group. It's always good to have someone who can listen and provide comfort.\n",
      "   - **Mindfulness and Meditation**: This can be quite effective in managing anxiety. You can try simple breathing exercises or guided meditation apps. This can help you stay grounded in the present moment, easing your anxious thoughts.\n",
      "   - **Physical Activity**: Regular exercise not only promotes better physical health but also improved mental wellbeing. This could be as simple as a daily walk, engaging in a sport you like, or even yoga.\n",
      "   - **Self-Care**: It's important to take care of your basic needs. Eating a balanced diet, maintaining a regular sleep schedule, and doing things you enjoy can make a significant difference in your mood and energy levels.\n",
      "\n",
      "4. **Encouragement and Next Steps**:   \n",
      "Rohan, it's very brave of you to reach out and share what you're dealing with. Remember, there's no need to navigate these feelings alone. I strongly recommend you seek assistance from a mental health professional who can provide you with ongoing therapy and support. It's okay not to be okay, and it's more than okay to seek help when you need it. You're doing just that and it's a big step towards getting better. Keep going. You're stronger than you think.\n",
      "\n",
      "✅ Report saved successfully as: rohan_report.pdf\n"
     ]
    }
   ],
   "source": [
    "mental_health_chatbot()"
   ]
  },
  {
   "cell_type": "code",
   "execution_count": null,
   "id": "c6bf57cd-74ae-4afb-854c-aa26fbeefdb8",
   "metadata": {},
   "outputs": [],
   "source": []
  }
 ],
 "metadata": {
  "kernelspec": {
   "display_name": "Python 3 (ipykernel)",
   "language": "python",
   "name": "python3"
  },
  "language_info": {
   "codemirror_mode": {
    "name": "ipython",
    "version": 3
   },
   "file_extension": ".py",
   "mimetype": "text/x-python",
   "name": "python",
   "nbconvert_exporter": "python",
   "pygments_lexer": "ipython3",
   "version": "3.11.4"
  }
 },
 "nbformat": 4,
 "nbformat_minor": 5
}
